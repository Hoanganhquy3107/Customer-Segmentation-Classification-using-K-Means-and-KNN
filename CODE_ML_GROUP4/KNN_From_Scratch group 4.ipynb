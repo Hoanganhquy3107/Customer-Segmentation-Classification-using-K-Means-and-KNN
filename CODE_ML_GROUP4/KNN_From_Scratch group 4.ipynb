{
  "nbformat": 4,
  "nbformat_minor": 0,
  "metadata": {
    "colab": {
      "provenance": []
    },
    "kernelspec": {
      "name": "python3",
      "display_name": "Python 3"
    },
    "language_info": {
      "name": "python"
    }
  },
  "cells": [
    {
      "cell_type": "code",
      "execution_count": null,
      "metadata": {
        "colab": {
          "base_uri": "https://localhost:8080/"
        },
        "id": "I1cZSTAv0mCD",
        "outputId": "a6a76eca-53b1-484f-866b-f31c354d78e0"
      },
      "outputs": [
        {
          "output_type": "stream",
          "name": "stdout",
          "text": [
            "[2.7810836, 2.550537003, 0]\n",
            "[3.06407232, 3.005305973, 0]\n",
            "[1.465489372, 2.362125076, 0]\n"
          ]
        }
      ],
      "source": [
        "from math import sqrt\n",
        "from random import seed\n",
        "from random import randrange\n",
        "from csv import reader\n",
        "from sklearn.metrics import accuracy_score, precision_score, recall_score, f1_score\n",
        "from sklearn.metrics import confusion_matrix, ConfusionMatrixDisplay\n",
        "import matplotlib.pyplot as plt\n",
        "from sklearn.datasets import make_classification\n",
        "from sklearn.model_selection import train_test_split\n",
        "from sklearn.neighbors import KNeighborsClassifier\n",
        "\n",
        "# calculate the Euclidean distance between two vectors\n",
        "def euclidean_distance(row1, row2):\n",
        "\tdistance = 0.0\n",
        "\tfor i in range(len(row1)-1):\n",
        "\t\tdistance += (row1[i] - row2[i])**2\n",
        "\treturn sqrt(distance)\n",
        "\n",
        "# Locate the most similar neighbors\n",
        "def get_neighbors(train, test_row, num_neighbors):\n",
        "\tdistances = list()\n",
        "\tfor train_row in train:\n",
        "\t\tdist = euclidean_distance(test_row, train_row)\n",
        "\t\tdistances.append((train_row, dist))\n",
        "\tdistances.sort(key=lambda tup: tup[1])\n",
        "\tneighbors = list()\n",
        "\tfor i in range(num_neighbors):\n",
        "\t\tneighbors.append(distances[i][0])\n",
        "\treturn neighbors\n",
        "\n",
        "# Test distance function\n",
        "dataset = [[2.7810836,2.550537003,0],\n",
        "\t[1.465489372,2.362125076,0],\n",
        "\t[3.396561688,4.400293529,0],\n",
        "\t[1.38807019,1.850220317,0],\n",
        "\t[3.06407232,3.005305973,0],\n",
        "\t[7.627531214,2.759262235,1],\n",
        "\t[5.332441248,2.088626775,1],\n",
        "\t[6.922596716,1.77106367,1],\n",
        "\t[8.675418651,-0.242068655,1],\n",
        "\t[7.673756466,3.508563011,1]]\n",
        "neighbors = get_neighbors(dataset, dataset[0], 3)\n",
        "for neighbor in neighbors:\n",
        "\tprint(neighbor)"
      ]
    },
    {
      "cell_type": "code",
      "source": [
        "# Make a classification prediction with neighbors\n",
        "def predict_classification(train, test_row, num_neighbors):\n",
        "\tneighbors = get_neighbors(train, test_row, num_neighbors)\n",
        "\toutput_values = [row[-1] for row in neighbors]\n",
        "\tprediction = max(set(output_values), key=output_values.count)\n",
        "\treturn prediction"
      ],
      "metadata": {
        "id": "l6fV001Y18ky"
      },
      "execution_count": null,
      "outputs": []
    },
    {
      "cell_type": "code",
      "source": [
        "\n",
        "# calculate the Euclidean distance between two vectors\n",
        "def euclidean_distance(row1, row2):\n",
        "\tdistance = 0.0\n",
        "\tfor i in range(len(row1)-1):\n",
        "\t\tdistance += (row1[i] - row2[i])**2\n",
        "\treturn sqrt(distance)\n",
        "\n",
        "# Locate the most similar neighbors\n",
        "def get_neighbors(train, test_row, num_neighbors):\n",
        "\tdistances = list()\n",
        "\tfor train_row in train:\n",
        "\t\tdist = euclidean_distance(test_row, train_row)\n",
        "\t\tdistances.append((train_row, dist))\n",
        "\tdistances.sort(key=lambda tup: tup[1])\n",
        "\tneighbors = list()\n",
        "\tfor i in range(num_neighbors):\n",
        "\t\tneighbors.append(distances[i][0])\n",
        "\treturn neighbors\n",
        "\n",
        "# Make a classification prediction with neighbors\n",
        "def predict_classification(train, test_row, num_neighbors):\n",
        "\tneighbors = get_neighbors(train, test_row, num_neighbors)\n",
        "\toutput_values = [row[-1] for row in neighbors]\n",
        "\tprediction = max(set(output_values), key=output_values.count)\n",
        "\treturn prediction\n",
        "\n",
        "# Test distance function\n",
        "dataset = [[2.7810836,2.550537003,0],\n",
        "\t[1.465489372,2.362125076,0],\n",
        "\t[3.396561688,4.400293529,0],\n",
        "\t[1.38807019,1.850220317,0],\n",
        "\t[3.06407232,3.005305973,0],\n",
        "\t[7.627531214,2.759262235,1],\n",
        "\t[5.332441248,2.088626775,1],\n",
        "\t[6.922596716,1.77106367,1],\n",
        "\t[8.675418651,-0.242068655,1],\n",
        "\t[7.673756466,3.508563011,1]]\n",
        "prediction = predict_classification(dataset, dataset[0], 3)\n",
        "print('Expected %d, Got %d.' % (dataset[0][-1], prediction))"
      ],
      "metadata": {
        "colab": {
          "base_uri": "https://localhost:8080/"
        },
        "id": "P6qD7IaI1-_2",
        "outputId": "f667d0c7-455c-4a4f-e4b1-fe774c45a0e5"
      },
      "execution_count": null,
      "outputs": [
        {
          "output_type": "stream",
          "name": "stdout",
          "text": [
            "Expected 0, Got 0.\n"
          ]
        }
      ]
    },
    {
      "cell_type": "code",
      "source": [
        "# Load a CSV file\n",
        "def load_csv(filename):\n",
        "\tdataset = list()\n",
        "\twith open(filename, 'r') as file:\n",
        "\t\tcsv_reader = reader(file)\n",
        "\t\tfor row in csv_reader:\n",
        "\t\t\tif not row:\n",
        "\t\t\t\tcontinue\n",
        "\t\t\tdataset.append(row)\n",
        "\treturn dataset\n",
        "\n",
        "# Convert string column to float\n",
        "def str_column_to_float(dataset, column):\n",
        "\tfor row in dataset:\n",
        "\t\trow[column] = float(row[column].strip())\n",
        "\n",
        "# Convert string column to integer\n",
        "def str_column_to_int(dataset, column):\n",
        "\tclass_values = [row[column] for row in dataset]\n",
        "\tunique = set(class_values)\n",
        "\tlookup = dict()\n",
        "\tfor i, value in enumerate(unique):\n",
        "\t\tlookup[value] = i\n",
        "\tfor row in dataset:\n",
        "\t\trow[column] = lookup[row[column]]\n",
        "\treturn lookup\n",
        "\n",
        "# Find the min and max values for each column\n",
        "def dataset_minmax(dataset):\n",
        "\tminmax = list()\n",
        "\tfor i in range(len(dataset[0])):\n",
        "\t\tcol_values = [row[i] for row in dataset]\n",
        "\t\tvalue_min = min(col_values)\n",
        "\t\tvalue_max = max(col_values)\n",
        "\t\tminmax.append([value_min, value_max])\n",
        "\treturn minmax\n",
        "\n",
        "# Rescale dataset columns to the range 0-1\n",
        "def normalize_dataset(dataset, minmax):\n",
        "\tfor row in dataset:\n",
        "\t\tfor i in range(len(row)):\n",
        "\t\t\trow[i] = (row[i] - minmax[i][0]) / (minmax[i][1] - minmax[i][0])\n",
        "\n",
        "# Split a dataset into k folds\n",
        "def cross_validation_split(dataset, n_folds):\n",
        "\tdataset_split = list()\n",
        "\tdataset_copy = list(dataset)\n",
        "\tfold_size = int(len(dataset) / n_folds)\n",
        "\tfor _ in range(n_folds):\n",
        "\t\tfold = list()\n",
        "\t\twhile len(fold) < fold_size:\n",
        "\t\t\tindex = randrange(len(dataset_copy))\n",
        "\t\t\tfold.append(dataset_copy.pop(index))\n",
        "\t\tdataset_split.append(fold)\n",
        "\treturn dataset_split\n",
        "\n",
        "# Calculate accuracy percentage\n",
        "def accuracy_metric(actual, predicted):\n",
        "\tcorrect = 0\n",
        "\tfor i in range(len(actual)):\n",
        "\t\tif actual[i] == predicted[i]:\n",
        "\t\t\tcorrect += 1\n",
        "\treturn correct / float(len(actual)) * 100.0\n",
        "\n",
        "# Evaluate an algorithm using a cross validation split\n",
        "def evaluate_algorithm(dataset, algorithm, n_folds, *args):\n",
        "\tfolds = cross_validation_split(dataset, n_folds)\n",
        "\tscores = list()\n",
        "\tfor fold in folds:\n",
        "\t\ttrain_set = list(folds)\n",
        "\t\ttrain_set.remove(fold)\n",
        "\t\ttrain_set = sum(train_set, [])\n",
        "\t\ttest_set = list()\n",
        "\t\tfor row in fold:\n",
        "\t\t\trow_copy = list(row)\n",
        "\t\t\ttest_set.append(row_copy)\n",
        "\t\t\trow_copy[-1] = None\n",
        "\t\tpredicted = algorithm(train_set, test_set, *args)\n",
        "\t\t# print(predicted)\n",
        "\t\tactual = [row[-1] for row in fold]\n",
        "\t\taccuracy = accuracy_metric(actual, predicted)\n",
        "\t\tscores.append(accuracy)\n",
        "\treturn scores\n",
        "\n",
        "\n",
        "# kNN Algorithm\n",
        "def k_nearest_neighbors(train, test, num_neighbors):\n",
        "\tpredictions = list()\n",
        "\tfor row in test:\n",
        "\t\toutput = predict_classification(train, row, num_neighbors)\n",
        "\t\tpredictions.append(output)\n",
        "\treturn(predictions)"
      ],
      "metadata": {
        "id": "SusWAeN6LLcj"
      },
      "execution_count": null,
      "outputs": []
    },
    {
      "cell_type": "code",
      "source": [
        "# Test the kNN on the Iris Flowers dataset\n",
        "seed(1)\n",
        "filename = '/content/Mall_Customers_Labeled.csv'\n",
        "dataset = load_csv(filename)\n",
        "for i in range(len(dataset[0])-1):\n",
        "\tstr_column_to_float(dataset, i)\n",
        "# convert class column to integers\n",
        "str_column_to_int(dataset, len(dataset[0])-1)\n",
        "# evaluate algorithm\n",
        "n_folds = 10\n",
        "num_neighbors = 5\n",
        "scores = evaluate_algorithm(dataset, k_nearest_neighbors, n_folds, num_neighbors)\n",
        "print('Scores: %s' % scores)\n",
        "print('Mean Accuracy: %.3f%%' % (sum(scores)/float(len(scores))))"
      ],
      "metadata": {
        "id": "CJK2PXAE2M2m",
        "colab": {
          "base_uri": "https://localhost:8080/"
        },
        "outputId": "71582ede-c63a-49fc-b72b-535906ff65b0"
      },
      "execution_count": null,
      "outputs": [
        {
          "output_type": "stream",
          "name": "stdout",
          "text": [
            "Scores: [94.73684210526315, 94.73684210526315, 100.0, 100.0, 100.0, 94.73684210526315, 94.73684210526315, 84.21052631578947, 94.73684210526315, 89.47368421052632]\n",
            "Mean Accuracy: 94.737%\n"
          ]
        }
      ]
    },
    {
      "cell_type": "code",
      "source": [
        "# prompt: help me to build a classifier base on the K-nearest-neighbors algorithm, and write code to test the classifier.\n",
        "\n",
        "\n",
        "# Load a CSV file\n",
        "def load_csv(filename):\n",
        "\tdataset = list()\n",
        "\twith open(filename, 'r') as file:\n",
        "\t\tcsv_reader = reader(file)\n",
        "\t\tfor row in csv_reader:\n",
        "\t\t\tif not row:\n",
        "\t\t\t\tcontinue\n",
        "\t\t\tdataset.append(row)\n",
        "\treturn dataset\n",
        "\n",
        "# Convert string column to float\n",
        "def str_column_to_float(dataset, column):\n",
        "\tfor row in dataset:\n",
        "\t\trow[column] = float(row[column].strip())\n",
        "\n",
        "# Convert string column to integer\n",
        "def str_column_to_int(dataset, column):\n",
        "\tclass_values = [row[column] for row in dataset]\n",
        "\tunique = set(class_values)\n",
        "\tlookup = dict()\n",
        "\tfor i, value in enumerate(unique):\n",
        "\t\tlookup[value] = i\n",
        "\tfor row in dataset:\n",
        "\t\trow[column] = lookup[row[column]]\n",
        "\treturn lookup\n",
        "\n",
        "# calculate the Euclidean distance between two vectors\n",
        "def euclidean_distance(row1, row2):\n",
        "\tdistance = 0.0\n",
        "\tfor i in range(len(row1)-1):\n",
        "\t\tdistance += (row1[i] - row2[i])**2\n",
        "\treturn sqrt(distance)\n",
        "\n",
        "# Locate the most similar neighbors\n",
        "def get_neighbors(train, test_row, num_neighbors):\n",
        "\tdistances = list()\n",
        "\tfor train_row in train:\n",
        "\t\tdist = euclidean_distance(test_row, train_row)\n",
        "\t\tdistances.append((train_row, dist))\n",
        "\tdistances.sort(key=lambda tup: tup[1])\n",
        "\tneighbors = list()\n",
        "\tfor i in range(num_neighbors):\n",
        "\t\tneighbors.append(distances[i][0])\n",
        "\treturn neighbors\n",
        "\n",
        "# Make a classification prediction with neighbors\n",
        "def predict_classification(train, test_row, num_neighbors):\n",
        "  neighbors = get_neighbors(train, test_row, num_neighbors)\n",
        "  output_values = [row[-1] for row in neighbors]\n",
        "  prediction = max(set(output_values), key=output_values.count)\n",
        "  return prediction\n",
        "\n",
        "class KNN:\n",
        "  def __init__(self, num_neighbors):\n",
        "    self.num_neighbors = num_neighbors\n",
        "\n",
        "  def fit(self, X, y):\n",
        "    self.X_train = X\n",
        "    self.y_train = y\n",
        "\n",
        "  def predict(self, X_test):\n",
        "    predictions = []\n",
        "    for row in X_test:\n",
        "      output = predict_classification(self.X_train, row, self.num_neighbors)\n",
        "      predictions.append(output)\n",
        "    return(predictions)\n",
        "\n"
      ],
      "metadata": {
        "id": "SphwPoGxP_gc"
      },
      "execution_count": null,
      "outputs": []
    },
    {
      "cell_type": "code",
      "source": [
        "# Test the kNN on the Mall_Customers dataset\n",
        "seed(1)\n",
        "filename = '/content/Mall_Customers_Labeled.csv' # Assuming you have the Mall_Customers dataset in a file named 'Mall_Customers_Labeled.csv'\n",
        "dataset = load_csv(filename)\n",
        "for i in range(len(dataset[0])-1):\n",
        "\tstr_column_to_float(dataset, i)\n",
        "# convert class column to integers\n",
        "#str_column_to_int(dataset, len(dataset[0])-2)\n",
        "\n",
        "# Split the dataset into train and test sets (example using 80/20 split)\n",
        "train_size = int(0.8 * len(dataset))\n",
        "train_set = dataset[:train_size]\n",
        "test_set = dataset[train_size:]\n",
        "\n",
        "# Prepare data for the KNN classifier\n",
        "X_train = [row[:] for row in train_set]\n",
        "y_train = [row[-1] for row in train_set]\n",
        "X_test = [row[:] for row in test_set]\n",
        "y_test = [row[-1] for row in test_set]\n",
        "\n",
        "# Create and fit the KNN classifier\n",
        "knn = KNN(num_neighbors=4)\n",
        "knn.fit(X_train, y_train)\n",
        "\n",
        "# Make predictions on the test set\n",
        "y_pred = knn.predict(X_test)\n",
        "\n",
        "# Calculate accuracy percentage\n",
        "def accuracy_metric(actual, predicted):\n",
        "\tcorrect = 0\n",
        "\tfor i in range(len(actual)):\n",
        "\t\tif actual[i] == predicted[i]:\n",
        "\t\t\tcorrect += 1\n",
        "\t\t\tprint(\"Actual: \" + str(actual[i]) + ' vs Predicted:' + str(predicted[i]))\n",
        "\treturn correct / float(len(actual)) * 100.0\n",
        "\n",
        "# Evaluate the model (example using accuracy)\n",
        "accuracy = accuracy_metric(y_test, y_pred)\n",
        "print('Accuracy: %.3f%%' % accuracy)"
      ],
      "metadata": {
        "colab": {
          "base_uri": "https://localhost:8080/"
        },
        "id": "yRzNxecSecF7",
        "outputId": "9feb1534-8a3a-4360-edb8-53dc301d060b"
      },
      "execution_count": null,
      "outputs": [
        {
          "output_type": "stream",
          "name": "stdout",
          "text": [
            "Actual: Rich vs Predicted:Rich\n",
            "Actual: Above Average vs Predicted:Above Average\n",
            "Actual: Above Average vs Predicted:Above Average\n",
            "Actual: Rich vs Predicted:Rich\n",
            "Actual: Above Average vs Predicted:Above Average\n",
            "Actual: Rich vs Predicted:Rich\n",
            "Actual: Above Average vs Predicted:Above Average\n",
            "Actual: Rich vs Predicted:Rich\n",
            "Actual: Above Average vs Predicted:Above Average\n",
            "Actual: Rich vs Predicted:Rich\n",
            "Actual: Above Average vs Predicted:Above Average\n",
            "Actual: Rich vs Predicted:Rich\n",
            "Actual: Above Average vs Predicted:Above Average\n",
            "Actual: Rich vs Predicted:Rich\n",
            "Actual: Above Average vs Predicted:Above Average\n",
            "Actual: Rich vs Predicted:Rich\n",
            "Actual: Above Average vs Predicted:Above Average\n",
            "Actual: Rich vs Predicted:Rich\n",
            "Actual: Above Average vs Predicted:Above Average\n",
            "Actual: Rich vs Predicted:Rich\n",
            "Actual: Above Average vs Predicted:Above Average\n",
            "Actual: Rich vs Predicted:Rich\n",
            "Actual: Above Average vs Predicted:Above Average\n",
            "Actual: Rich vs Predicted:Rich\n",
            "Actual: Above Average vs Predicted:Above Average\n",
            "Actual: Above Average vs Predicted:Above Average\n",
            "Actual: Rich vs Predicted:Rich\n",
            "Actual: Above Average vs Predicted:Above Average\n",
            "Actual: Rich vs Predicted:Rich\n",
            "Actual: Above Average vs Predicted:Above Average\n",
            "Actual: Rich vs Predicted:Rich\n",
            "Actual: Above Average vs Predicted:Above Average\n",
            "Actual: Rich vs Predicted:Rich\n",
            "Actual: Above Average vs Predicted:Above Average\n",
            "Actual: Rich vs Predicted:Rich\n",
            "Actual: Above Average vs Predicted:Above Average\n",
            "Actual: Rich vs Predicted:Rich\n",
            "Actual: Above Average vs Predicted:Above Average\n",
            "Accuracy: 95.000%\n"
          ]
        }
      ]
    },
    {
      "cell_type": "code",
      "source": [
        "# Create a new data point\n",
        "new_data = [1, 35, 20, 20]  # Example values for the new data point\n",
        "\n",
        "# Make a prediction for the new data point\n",
        "prediction = knn.predict([new_data])\n",
        "\n",
        "# Print the prediction\n",
        "print('Prediction for new data:', prediction)\n"
      ],
      "metadata": {
        "colab": {
          "base_uri": "https://localhost:8080/"
        },
        "id": "om4xyeZkpJ66",
        "outputId": "1adee5ac-a887-4765-e841-074339b402e8"
      },
      "execution_count": null,
      "outputs": [
        {
          "output_type": "stream",
          "name": "stdout",
          "text": [
            "Prediction for new data: ['Below Average']\n"
          ]
        }
      ]
    },
    {
      "cell_type": "code",
      "source": [
        "\n",
        "# Calculate evaluation metrics\n",
        "accuracy = accuracy_score(y_test, y_pred)\n",
        "precision = precision_score(y_test, y_pred, average='weighted', zero_division=1)\n",
        "recall = recall_score(y_test, y_pred, average='weighted', zero_division=1)\n",
        "f1 = f1_score(y_test, y_pred, average='weighted', zero_division=1)\n",
        "\n",
        "# Print the evaluation metrics\n",
        "print('Accuracy:', accuracy)\n",
        "print('Precision:', precision)\n",
        "print('Recall:', recall)\n",
        "print('F1-score:', f1)\n"
      ],
      "metadata": {
        "colab": {
          "base_uri": "https://localhost:8080/"
        },
        "id": "s4UNPkWa7ve8",
        "outputId": "6507e04f-da5d-4090-cbac-d0fabd158124"
      },
      "execution_count": null,
      "outputs": [
        {
          "output_type": "stream",
          "name": "stdout",
          "text": [
            "Accuracy: 0.95\n",
            "Precision: 1.0\n",
            "Recall: 0.95\n",
            "F1-score: 0.9736842105263157\n"
          ]
        }
      ]
    },
    {
      "cell_type": "code",
      "source": [
        "train_predictions = knn.predict(X_train)\n",
        "test_predictions = knn.predict(X_test)\n",
        "\n",
        "train_accuracy = accuracy_score(y_train, train_predictions)\n",
        "test_accuracy = accuracy_score(y_test, test_predictions)\n",
        "\n",
        "print(f\"Accuracy on training data: {train_accuracy}\")\n",
        "print(f\"Accuracy on test data: {test_accuracy}\")"
      ],
      "metadata": {
        "colab": {
          "base_uri": "https://localhost:8080/"
        },
        "id": "6ZKQHUta7o9z",
        "outputId": "e2ff65e7-392c-43ba-9dbc-c4cbe0328021"
      },
      "execution_count": null,
      "outputs": [
        {
          "output_type": "stream",
          "name": "stdout",
          "text": [
            "Accuracy on training data: 0.9493670886075949\n",
            "Accuracy on test data: 0.95\n"
          ]
        }
      ]
    },
    {
      "cell_type": "code",
      "source": [
        "\n",
        "# Define the label mapping\n",
        "labels = {0: 'Poor', 1: 'Average', 2: 'Below Average', 3: 'Above Average', 4: 'Rich'}\n",
        "\n",
        "# Find unique labels in the test predictions\n",
        "unique_labels_test = set(y_test).union(set(test_predictions))\n",
        "\n",
        "# Convert unique labels to lowercase for consistency\n",
        "unique_labels_test = {label.lower() for label in unique_labels_test}\n",
        "\n",
        "# Get the label names for the unique classes, handling potential missing labels\n",
        "label_names_test = [labels.get(i, 'Unknown') for i in range(5) if labels.get(i, '').lower() in unique_labels_test]\n",
        "\n",
        "# Calculate the confusion matrix for the test set\n",
        "test_conf_matrix = confusion_matrix(y_test, test_predictions)\n",
        "\n",
        "# Plot the confusion matrix for the test set\n",
        "fig, ax = plt.subplots(figsize=(20, 7))\n",
        "ConfusionMatrixDisplay(confusion_matrix=test_conf_matrix, display_labels=label_names_test).plot(ax=ax)\n",
        "ax.set_title(\"Confusion Matrix - Test Set\")\n",
        "\n",
        "plt.tight_layout()\n",
        "plt.show()\n"
      ],
      "metadata": {
        "colab": {
          "base_uri": "https://localhost:8080/",
          "height": 707
        },
        "id": "mHDQb-h6YL8D",
        "outputId": "7197a585-a272-4f42-ea64-7fcd48420758"
      },
      "execution_count": null,
      "outputs": [
        {
          "output_type": "display_data",
          "data": {
            "text/plain": [
              "<Figure size 2000x700 with 2 Axes>"
            ],
            "image/png": "[encoded data removed]"
          },
          "metadata": {}
        }
      ]
    },
    {
      "cell_type": "code",
      "source": [
        "\n",
        "\n",
        "def plot_accuracy(train_accuracy, test_accuracy):\n",
        "    labels = ['Training Accuracy', 'Test Accuracy']\n",
        "    accuracies = [train_accuracy, test_accuracy]\n",
        "\n",
        "    fig, ax = plt.subplots()\n",
        "    bar_width = 0.35\n",
        "    index = range(len(labels))\n",
        "\n",
        "    bars = ax.bar(index, accuracies, bar_width, color=['blue', 'orange'], label='Accuracy')\n",
        "\n",
        "    ax.set_xlabel('Data Split')\n",
        "    ax.set_ylabel('Accuracy')\n",
        "    ax.set_title('Training vs Test Accuracy')\n",
        "    ax.set_xticks(index)\n",
        "    ax.set_xticklabels(labels)\n",
        "    ax.legend()\n",
        "\n",
        "    for bar in bars:\n",
        "        height = bar.get_height()\n",
        "        ax.text(bar.get_x() + bar.get_width() / 2.0, height, f'{height:.3f}', ha='center', va='bottom')\n",
        "\n",
        "    plt.show()\n",
        "plot_accuracy(train_accuracy, test_accuracy)"
      ],
      "metadata": {
        "colab": {
          "base_uri": "https://localhost:8080/",
          "height": 472
        },
        "id": "5_E16PS-f9Wj",
        "outputId": "6d7d723d-ac4e-4777-e943-58c022fe32f1"
      },
      "execution_count": null,
      "outputs": [
        {
          "output_type": "display_data",
          "data": {
            "text/plain": [
              "<Figure size 640x480 with 1 Axes>"
            ],
            "image/png": "[encoded data removed]"
          },
          "metadata": {}
        }
      ]
    },
    {
      "cell_type": "code",
      "source": [
        "# evaluate knn performance on train and test sets with different numbers of neighbors\n",
        "\n",
        "# create dataset\n",
        "#X, y = make_classification(n_samples=10000, n_features=20, n_informative=5, n_redundant=15, random_state=1)\n",
        "# split into train test sets\n",
        "#X_train, X_test, y_train, y_test = train_test_split(X, y, test_size=0.3)\n",
        "# define lists to collect scores\n",
        "train_scores, test_scores = list(), list()\n",
        "\n",
        "\n",
        "# define the tree depths to evaluate\n",
        "values = [i for i in range(1, 40)]\n",
        "# evaluate a decision tree for each depth\n",
        "for i in values:\n",
        " # configure the model\n",
        " model = KNN(num_neighbors=i)\n",
        " # fit model on the training dataset\n",
        " model.fit(X_train, y_train)\n",
        " # evaluate on the train dataset\n",
        " train_yhat = model.predict(X_train)\n",
        " train_acc = accuracy_score(y_train, train_yhat)\n",
        " train_scores.append(train_acc)\n",
        " # evaluate on the test dataset\n",
        " test_yhat = model.predict(X_test)\n",
        " test_acc = accuracy_score(y_test, test_yhat)\n",
        " test_scores.append(test_acc)\n",
        " # summarize progress\n",
        " print('>%d, train: %.3f, test: %.3f' % (i, train_acc, test_acc))\n",
        "# plot of train and test scores vs number of neighbors\n",
        "plt.plot(values, train_scores, '-o', label='Train')\n",
        "plt.plot(values, test_scores, '-o', label='Test')\n",
        "plt.legend()\n",
        "plt.show()"
      ],
      "metadata": {
        "colab": {
          "base_uri": "https://localhost:8080/",
          "height": 1000
        },
        "id": "KX2ELiCLgNfT",
        "outputId": "b9f6f191-3104-4305-e477-23b6072fbbe0"
      },
      "execution_count": null,
      "outputs": [
        {
          "output_type": "stream",
          "name": "stdout",
          "text": [
            ">1, train: 1.000, test: 1.000\n",
            ">2, train: 0.975, test: 0.950\n",
            ">3, train: 0.981, test: 0.975\n",
            ">4, train: 0.949, test: 0.950\n",
            ">5, train: 0.962, test: 0.975\n",
            ">6, train: 0.949, test: 0.975\n",
            ">7, train: 0.956, test: 0.975\n",
            ">8, train: 0.949, test: 0.975\n",
            ">9, train: 0.949, test: 0.975\n",
            ">10, train: 0.949, test: 0.975\n",
            ">11, train: 0.956, test: 0.975\n",
            ">12, train: 0.949, test: 0.950\n",
            ">13, train: 0.949, test: 0.975\n",
            ">14, train: 0.949, test: 0.950\n",
            ">15, train: 0.949, test: 0.975\n",
            ">16, train: 0.949, test: 0.950\n",
            ">17, train: 0.956, test: 0.950\n",
            ">18, train: 0.949, test: 0.950\n",
            ">19, train: 0.949, test: 0.950\n",
            ">20, train: 0.949, test: 0.950\n",
            ">21, train: 0.949, test: 0.950\n",
            ">22, train: 0.949, test: 0.950\n",
            ">23, train: 0.943, test: 0.950\n",
            ">24, train: 0.937, test: 0.925\n",
            ">25, train: 0.943, test: 0.950\n",
            ">26, train: 0.943, test: 0.925\n",
            ">27, train: 0.943, test: 0.925\n",
            ">28, train: 0.937, test: 0.900\n",
            ">29, train: 0.937, test: 0.875\n",
            ">30, train: 0.905, test: 0.525\n",
            ">31, train: 0.899, test: 0.525\n",
            ">32, train: 0.886, test: 0.500\n",
            ">33, train: 0.880, test: 0.500\n",
            ">34, train: 0.873, test: 0.500\n",
            ">35, train: 0.848, test: 0.475\n",
            ">36, train: 0.861, test: 0.475\n",
            ">37, train: 0.797, test: 0.275\n",
            ">38, train: 0.791, test: 0.150\n",
            ">39, train: 0.785, test: 0.025\n"
          ]
        },
        {
          "output_type": "display_data",
          "data": {
            "text/plain": [
              "<Figure size 640x480 with 1 Axes>"
            ],
            "image/png": "[encoded data removed]"
          },
          "metadata": {}
        }
      ]
    }
  ]
}